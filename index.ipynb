{
 "cells": [
  {
   "cell_type": "markdown",
   "metadata": {},
   "source": [
    "# Basic Time Series Models - Lab"
   ]
  },
  {
   "cell_type": "markdown",
   "metadata": {},
   "source": [
    "## Introduction\n",
    "\n",
    "Now that you have some basic understanding of the white noise and random walk models, its time for you to implement them! "
   ]
  },
  {
   "cell_type": "markdown",
   "metadata": {},
   "source": [
    "## Objectives\n",
    "\n",
    "In this lab you will: \n",
    "\n",
    "- Generate and analyze a white noise model \n",
    "- Generate and analyze a random walk model \n",
    "- Implement differencing in a random walk model \n"
   ]
  },
  {
   "cell_type": "markdown",
   "metadata": {},
   "source": [
    "## A White Noise model\n",
    "\n",
    "To get a good sense of how a model works, it is always a good idea to generate a process. Let's consider the following example:\n",
    "- Every day in August, September, and October of 2018, Nina takes the subway to work. Let's ignore weekends for now and assume that Nina works every day \n",
    "- We know that on average, it takes her 25 minutes, and the standard deviation is 4 minutes  \n",
    "- Create and visualize a time series that reflects this information "
   ]
  },
  {
   "cell_type": "markdown",
   "metadata": {},
   "source": [
    "Let's import `pandas`, `numpy`, and `matplotlib.pyplot` using their standard alias. "
   ]
  },
  {
   "cell_type": "code",
   "execution_count": 1,
   "metadata": {},
   "outputs": [],
   "source": [
    "import pandas as pd\n",
    "import numpy as np\n",
    "import matplotlib.pyplot as plt\n",
    "\n",
    "\n",
    "\n",
    "# Do not change this seed\n",
    "np.random.seed(12) "
   ]
  },
  {
   "cell_type": "markdown",
   "metadata": {},
   "source": [
    "Create the dates. You can do this using the `date_range()` function Pandas. More info [here](https://pandas.pydata.org/pandas-docs/stable/generated/pandas.date_range.html)."
   ]
  },
  {
   "cell_type": "code",
   "execution_count": 4,
   "metadata": {},
   "outputs": [],
   "source": [
    "# Create dates\n",
    "dates = pd.date_range('2018-08-01','2018-10-31', freq='D' )"
   ]
  },
  {
   "cell_type": "code",
   "execution_count": 5,
   "metadata": {},
   "outputs": [
    {
     "data": {
      "text/plain": [
       "DatetimeIndex(['2018-08-01', '2018-08-02', '2018-08-03', '2018-08-04',\n",
       "               '2018-08-05', '2018-08-06', '2018-08-07', '2018-08-08',\n",
       "               '2018-08-09', '2018-08-10', '2018-08-11', '2018-08-12',\n",
       "               '2018-08-13', '2018-08-14', '2018-08-15', '2018-08-16',\n",
       "               '2018-08-17', '2018-08-18', '2018-08-19', '2018-08-20',\n",
       "               '2018-08-21', '2018-08-22', '2018-08-23', '2018-08-24',\n",
       "               '2018-08-25', '2018-08-26', '2018-08-27', '2018-08-28',\n",
       "               '2018-08-29', '2018-08-30', '2018-08-31', '2018-09-01',\n",
       "               '2018-09-02', '2018-09-03', '2018-09-04', '2018-09-05',\n",
       "               '2018-09-06', '2018-09-07', '2018-09-08', '2018-09-09',\n",
       "               '2018-09-10', '2018-09-11', '2018-09-12', '2018-09-13',\n",
       "               '2018-09-14', '2018-09-15', '2018-09-16', '2018-09-17',\n",
       "               '2018-09-18', '2018-09-19', '2018-09-20', '2018-09-21',\n",
       "               '2018-09-22', '2018-09-23', '2018-09-24', '2018-09-25',\n",
       "               '2018-09-26', '2018-09-27', '2018-09-28', '2018-09-29',\n",
       "               '2018-09-30', '2018-10-01', '2018-10-02', '2018-10-03',\n",
       "               '2018-10-04', '2018-10-05', '2018-10-06', '2018-10-07',\n",
       "               '2018-10-08', '2018-10-09', '2018-10-10', '2018-10-11',\n",
       "               '2018-10-12', '2018-10-13', '2018-10-14', '2018-10-15',\n",
       "               '2018-10-16', '2018-10-17', '2018-10-18', '2018-10-19',\n",
       "               '2018-10-20', '2018-10-21', '2018-10-22', '2018-10-23',\n",
       "               '2018-10-24', '2018-10-25', '2018-10-26', '2018-10-27',\n",
       "               '2018-10-28', '2018-10-29', '2018-10-30', '2018-10-31'],\n",
       "              dtype='datetime64[ns]', freq='D')"
      ]
     },
     "execution_count": 5,
     "metadata": {},
     "output_type": "execute_result"
    }
   ],
   "source": [
    "dates"
   ]
  },
  {
   "cell_type": "markdown",
   "metadata": {},
   "source": [
    "Generate the values for the white noise process representing Nina's commute in August and September."
   ]
  },
  {
   "cell_type": "code",
   "execution_count": 7,
   "metadata": {},
   "outputs": [],
   "source": [
    "# Generate values for white noise\n",
    "randomVals = np.random.normal(25,4,92)\n",
    "randomVals\n",
    "commute = randomVals"
   ]
  },
  {
   "cell_type": "markdown",
   "metadata": {},
   "source": [
    "Create a time series with the dates and the commute times."
   ]
  },
  {
   "cell_type": "code",
   "execution_count": 11,
   "metadata": {},
   "outputs": [
    {
     "data": {
      "text/html": [
       "<div>\n",
       "<style scoped>\n",
       "    .dataframe tbody tr th:only-of-type {\n",
       "        vertical-align: middle;\n",
       "    }\n",
       "\n",
       "    .dataframe tbody tr th {\n",
       "        vertical-align: top;\n",
       "    }\n",
       "\n",
       "    .dataframe thead th {\n",
       "        text-align: right;\n",
       "    }\n",
       "</style>\n",
       "<table border=\"1\" class=\"dataframe\">\n",
       "  <thead>\n",
       "    <tr style=\"text-align: right;\">\n",
       "      <th></th>\n",
       "      <th>communte_mins</th>\n",
       "    </tr>\n",
       "  </thead>\n",
       "  <tbody>\n",
       "    <tr>\n",
       "      <th>2018-08-01</th>\n",
       "      <td>22.244485</td>\n",
       "    </tr>\n",
       "    <tr>\n",
       "      <th>2018-08-02</th>\n",
       "      <td>28.210522</td>\n",
       "    </tr>\n",
       "    <tr>\n",
       "      <th>2018-08-03</th>\n",
       "      <td>26.089564</td>\n",
       "    </tr>\n",
       "    <tr>\n",
       "      <th>2018-08-04</th>\n",
       "      <td>21.123294</td>\n",
       "    </tr>\n",
       "    <tr>\n",
       "      <th>2018-08-05</th>\n",
       "      <td>28.487872</td>\n",
       "    </tr>\n",
       "  </tbody>\n",
       "</table>\n",
       "</div>"
      ],
      "text/plain": [
       "            communte_mins\n",
       "2018-08-01      22.244485\n",
       "2018-08-02      28.210522\n",
       "2018-08-03      26.089564\n",
       "2018-08-04      21.123294\n",
       "2018-08-05      28.487872"
      ]
     },
     "execution_count": 11,
     "metadata": {},
     "output_type": "execute_result"
    }
   ],
   "source": [
    "# Create a time series\n",
    "data = pd.DataFrame(data = commute, index = dates)\n",
    "data.columns = ['communte_mins']\n",
    "data.head()"
   ]
  },
  {
   "cell_type": "markdown",
   "metadata": {},
   "source": [
    "Visualize the time series and set appropriate axis labels."
   ]
  },
  {
   "cell_type": "code",
   "execution_count": 12,
   "metadata": {},
   "outputs": [
    {
     "data": {
      "text/plain": [
       "<AxesSubplot:>"
      ]
     },
     "execution_count": 12,
     "metadata": {},
     "output_type": "execute_result"
    },
    {
     "data": {
      "image/png": "[encoded data removed]",
      "text/plain": [
       "<Figure size 432x288 with 1 Axes>"
      ]
     },
     "metadata": {
      "needs_background": "light"
     },
     "output_type": "display_data"
    }
   ],
   "source": [
    "# Visualize the time series \n",
    "data.plot()"
   ]
  },
  {
   "cell_type": "markdown",
   "metadata": {},
   "source": [
    "Print Nina's shortest and longest commute."
   ]
  },
  {
   "cell_type": "code",
   "execution_count": 14,
   "metadata": {},
   "outputs": [
    {
     "data": {
      "text/plain": [
       "communte_mins    14.522027\n",
       "dtype: float64"
      ]
     },
     "execution_count": 14,
     "metadata": {},
     "output_type": "execute_result"
    }
   ],
   "source": [
    "# Shortest commute\n",
    "data.min()"
   ]
  },
  {
   "cell_type": "code",
   "execution_count": 15,
   "metadata": {},
   "outputs": [
    {
     "data": {
      "text/plain": [
       "communte_mins    37.166745\n",
       "dtype: float64"
      ]
     },
     "execution_count": 15,
     "metadata": {},
     "output_type": "execute_result"
    }
   ],
   "source": [
    "# Longest commute\n",
    "data.max()"
   ]
  },
  {
   "cell_type": "markdown",
   "metadata": {},
   "source": [
    "Look at the distribution of commute times."
   ]
  },
  {
   "cell_type": "code",
   "execution_count": 16,
   "metadata": {
    "scrolled": true
   },
   "outputs": [
    {
     "data": {
      "text/plain": [
       "array([[<AxesSubplot:title={'center':'communte_mins'}>]], dtype=object)"
      ]
     },
     "execution_count": 16,
     "metadata": {},
     "output_type": "execute_result"
    },
    {
     "data": {
      "image/png": "[encoded data removed]",
      "text/plain": [
       "<Figure size 432x288 with 1 Axes>"
      ]
     },
     "metadata": {
      "needs_background": "light"
     },
     "output_type": "display_data"
    }
   ],
   "source": [
    "# Distribution of commute times\n",
    "data.hist()"
   ]
  },
  {
   "cell_type": "markdown",
   "metadata": {},
   "source": [
    "Compute the mean and standard deviation of `commute_series`. The fact that the mean and standard error are constant over time is crucial!"
   ]
  },
  {
   "cell_type": "code",
   "execution_count": 17,
   "metadata": {},
   "outputs": [
    {
     "data": {
      "text/plain": [
       "communte_mins    24.373433\n",
       "dtype: float64"
      ]
     },
     "execution_count": 17,
     "metadata": {},
     "output_type": "execute_result"
    }
   ],
   "source": [
    "# Mean of commute_series\n",
    "data.mean()"
   ]
  },
  {
   "cell_type": "code",
   "execution_count": 18,
   "metadata": {},
   "outputs": [
    {
     "data": {
      "text/plain": [
       "communte_mins    4.147899\n",
       "dtype: float64"
      ]
     },
     "execution_count": 18,
     "metadata": {},
     "output_type": "execute_result"
    }
   ],
   "source": [
    "# Standard deviation of commute_series\n",
    "data.std()"
   ]
  },
  {
   "cell_type": "markdown",
   "metadata": {},
   "source": [
    "Now, let's look at the mean and standard deviation for August and October.  "
   ]
  },
  {
   "cell_type": "code",
   "execution_count": 20,
   "metadata": {},
   "outputs": [
    {
     "name": "stdout",
     "output_type": "stream",
     "text": [
      "communte_mins    24.867409\n",
      "dtype: float64 communte_mins    4.478207\n",
      "dtype: float64\n",
      "\n",
      "communte_mins    23.733632\n",
      "dtype: float64 communte_mins    3.769916\n",
      "dtype: float64\n"
     ]
    }
   ],
   "source": [
    "# Mean and standard deviation for August and October\n",
    "august = data['2018-08-01':'2018-08-31']\n",
    "october = data['2018-10-01':'2018-10-31']\n",
    "print(august.mean(), august.std())\n",
    "print()\n",
    "print(october.mean(), october.std())"
   ]
  },
  {
   "cell_type": "markdown",
   "metadata": {},
   "source": [
    "Because you've generated this data, you know that the mean and standard deviation will be the same over time. However, comparing mean and standard deviation over time is useful practice for real data examples to check if a process is white noise!"
   ]
  },
  {
   "cell_type": "markdown",
   "metadata": {},
   "source": [
    "## A Random Walk model \n",
    "\n",
    "Recall that a random walk model has: \n",
    "\n",
    "- No specified mean or variance \n",
    "- A strong dependence over time \n",
    "\n",
    "Mathematically, this can be written as:\n",
    "\n",
    "$$Y_t = Y_{t-1} + \\epsilon_t$$\n",
    "\n",
    "Because today's value depends on yesterday's, you need a starting value when you start off your time series. In practice, this is what the first few time series values look like:\n",
    "$$ Y_0 = \\text{some specified starting value}$$\n",
    "$$Y_1= Y_{0}+ \\epsilon_1 $$\n",
    "$$Y_2= Y_{1}+ \\epsilon_2 = Y_{0} + \\epsilon_1 + \\epsilon_2  $$\n",
    "$$Y_3= Y_{2}+ \\epsilon_3 = Y_{0} + \\epsilon_1 + \\epsilon_2 + \\epsilon_3 $$\n",
    "$$\\ldots $$\n",
    "\n",
    "Keeping this in mind, let's create a random walk model: \n",
    "\n",
    "Starting from a value of 1000 USD of a share value upon a company's first IPO (initial public offering) on January 1 2010 until end of November of the same year, generate a random walk model with a white noise error term, which has a standard deviation of 10."
   ]
  },
  {
   "cell_type": "code",
   "execution_count": 46,
   "metadata": {},
   "outputs": [],
   "source": [
    "# Keep the random seed\n",
    "np.random.seed(11)\n",
    "\n",
    "# Create a series with the specified dates\n",
    "dates = pd.date_range('2010-01-01', '2010-11-30', freq = 'D')\n",
    "numOfDays = len(dates)\n",
    "# White noise error term\n",
    "error = np.random.normal(0, 10, numOfDays)\n",
    "\n",
    "# Define random walk\n",
    "def random_walk(start, error):        \n",
    "    values = []\n",
    "    runningTotal = start\n",
    "    for x in error:\n",
    "        runningTotal += x\n",
    "        values.append(runningTotal)\n",
    "    return values\n",
    "shares_value = random_walk(1000, error)\n",
    "\n",
    "shares_series = pd.Series(shares_value, index=dates)"
   ]
  },
  {
   "cell_type": "markdown",
   "metadata": {},
   "source": [
    "Visualize the time series with correct axis labels. "
   ]
  },
  {
   "cell_type": "code",
   "execution_count": 47,
   "metadata": {},
   "outputs": [
    {
     "data": {
      "text/plain": [
       "<AxesSubplot:>"
      ]
     },
     "execution_count": 47,
     "metadata": {},
     "output_type": "execute_result"
    },
    {
     "data": {
      "image/png": "[encoded data removed]",
      "text/plain": [
       "<Figure size 432x288 with 1 Axes>"
      ]
     },
     "metadata": {
      "needs_background": "light"
     },
     "output_type": "display_data"
    }
   ],
   "source": [
    "# Your code here\n",
    "shares_series.plot()"
   ]
  },
  {
   "cell_type": "markdown",
   "metadata": {},
   "source": [
    "You can see how this very much looks like the exchange rate series you looked at in the lesson!"
   ]
  },
  {
   "cell_type": "markdown",
   "metadata": {},
   "source": [
    "## Random Walk with a Drift\n",
    "\n",
    "Repeat the above, but include a drift parameter $c$ of 8 now!"
   ]
  },
  {
   "cell_type": "code",
   "execution_count": 57,
   "metadata": {},
   "outputs": [],
   "source": [
    "# Keep the random seed\n",
    "np.random.seed(11)\n",
    "def random_walk_drift(start, error, drift):        \n",
    "    values = []\n",
    "    runningTotal = start\n",
    "    error_with_drift = error+drift\n",
    "    for x in error_with_drift:\n",
    "        runningTotal += error_with_drift\n",
    "        values.append(runningTotal)\n",
    "    return values\n",
    "\n",
    "shares_series_drift = random_walk(1000,error+8)\n",
    "shares_series_drift = pd.Series(shares_series_drift, index=dates)"
   ]
  },
  {
   "cell_type": "code",
   "execution_count": 58,
   "metadata": {},
   "outputs": [
    {
     "data": {
      "text/plain": [
       "[1025.4945474130518,\n",
       " 1030.6338174448888,\n",
       " 1033.7881661226772,\n",
       " 1015.2549805300624,\n",
       " 1023.172134236333,\n",
       " 1027.97582059869,\n",
       " 1030.6095269763427,\n",
       " 1041.7635536605997,\n",
       " 1053.9740608231543,\n",
       " 1051.318031018666,\n",
       " 1050.4556343191114,\n",
       " 1053.6982993922775,\n",
       " 1068.5951224942917,\n",
       " 1082.2070442546244,\n",
       " 1077.1515591568186,\n",
       " 1073.9568065408225,\n",
       " 1089.3251804531178,\n",
       " 1113.0715211841607,\n",
       " 1120.7607702994821,\n",
       " 1121.9263040248297,\n",
       " 1140.8826010100242,\n",
       " 1145.7868346378177,\n",
       " 1161.044356885808,\n",
       " 1184.5350732195259,\n",
       " 1198.83587144446,\n",
       " 1207.570803814479,\n",
       " 1222.8935173533314,\n",
       " 1224.4677634289978,\n",
       " 1230.6868316758735,\n",
       " 1232.9472860817714,\n",
       " 1238.9035329251496,\n",
       " 1242.0385819240614,\n",
       " 1248.1808286844714,\n",
       " 1252.3754645168847,\n",
       " 1261.2652408701076,\n",
       " 1269.9019574843553,\n",
       " 1280.865428565298,\n",
       " 1302.8931397601366,\n",
       " 1295.4245140841128,\n",
       " 1316.3806999321394,\n",
       " 1322.008195474671,\n",
       " 1317.6847334086483,\n",
       " 1323.9605357368741,\n",
       " 1332.878919486168,\n",
       " 1351.5545040566458,\n",
       " 1348.9381595739274,\n",
       " 1359.1116416536495,\n",
       " 1368.2898366971838,\n",
       " 1359.4487277675505,\n",
       " 1355.591175114045,\n",
       " 1369.5921951703203,\n",
       " 1384.547867724069,\n",
       " 1403.4249763250375,\n",
       " 1416.7631934814906,\n",
       " 1428.7153136108423,\n",
       " 1437.9439889044684,\n",
       " 1458.0350053254017,\n",
       " 1457.6043443145984,\n",
       " 1464.1854085044363,\n",
       " 1476.038949885421,\n",
       " 1468.2640067995048,\n",
       " 1489.3734432016556,\n",
       " 1489.4447931238901,\n",
       " 1496.7272990021802,\n",
       " 1526.294043260248,\n",
       " 1525.9996707374792,\n",
       " 1528.7059504609997,\n",
       " 1552.3229873975038,\n",
       " 1549.521049145531,\n",
       " 1553.200472958156,\n",
       " 1566.3613133315057,\n",
       " 1578.9152419343638,\n",
       " 1592.8521039641785,\n",
       " 1604.557167307046,\n",
       " 1626.0109480255335,\n",
       " 1644.170369489394,\n",
       " 1658.1231540301733,\n",
       " 1659.295137866492,\n",
       " 1660.159538572451,\n",
       " 1649.0766431555494,\n",
       " 1663.9497666413936,\n",
       " 1653.719670806157,\n",
       " 1670.510808803326,\n",
       " 1696.974457532643,\n",
       " 1694.3579134947586,\n",
       " 1695.5130668107263,\n",
       " 1698.7509220120598,\n",
       " 1715.0540263076625,\n",
       " 1714.4205011453234,\n",
       " 1721.1150864745462,\n",
       " 1723.8842101483888,\n",
       " 1729.3714409048418,\n",
       " 1750.284188189075,\n",
       " 1748.6421396572616,\n",
       " 1757.3597373989844,\n",
       " 1768.0758003605483,\n",
       " 1784.6624720992793,\n",
       " 1780.0217353088444,\n",
       " 1799.1704381584077,\n",
       " 1811.5182080254838,\n",
       " 1828.2609356839425,\n",
       " 1836.977456686531,\n",
       " 1828.5869404191387,\n",
       " 1830.1139141064145,\n",
       " 1846.291609769076,\n",
       " 1854.6595573090624,\n",
       " 1862.1725318853876,\n",
       " 1888.0878428513813,\n",
       " 1918.1064059894225,\n",
       " 1925.7357369452343,\n",
       " 1953.0647912299792,\n",
       " 1941.1290759167216,\n",
       " 1928.6385033120298,\n",
       " 1945.309055395225,\n",
       " 1950.6894446631763,\n",
       " 1964.4791557340845,\n",
       " 1977.6446795895545,\n",
       " 1984.7506431845811,\n",
       " 1999.57194028935,\n",
       " 2009.0791603810947,\n",
       " 2001.7577351579678,\n",
       " 2011.9464209319706,\n",
       " 2021.8030534764457,\n",
       " 2048.1308188444577,\n",
       " 2044.8418748313263,\n",
       " 2053.011843639737,\n",
       " 2056.7675553902795,\n",
       " 2063.438456399168,\n",
       " 2088.030502576132,\n",
       " 2099.816909418422,\n",
       " 2103.1712487935856,\n",
       " 2112.709661243934,\n",
       " 2128.3712674479725,\n",
       " 2126.4309905156933,\n",
       " 2131.7875672281543,\n",
       " 2155.2096594315626,\n",
       " 2171.771179888459,\n",
       " 2179.3231537187035,\n",
       " 2182.5482614289076,\n",
       " 2189.0076061845316,\n",
       " 2181.496811572722,\n",
       " 2198.9271713836583,\n",
       " 2210.338705768762,\n",
       " 2219.721437941941,\n",
       " 2214.7472117666957,\n",
       " 2215.5975873251737,\n",
       " 2228.7423836577773,\n",
       " 2239.319547468515,\n",
       " 2242.352242695602,\n",
       " 2255.4024618632034,\n",
       " 2272.7902931154094,\n",
       " 2274.0400903686177,\n",
       " 2276.731507967585,\n",
       " 2276.0328885324734,\n",
       " 2272.4802462843063,\n",
       " 2288.446964753593,\n",
       " 2301.547244971949,\n",
       " 2312.9343843368306,\n",
       " 2309.2131839914696,\n",
       " 2306.7535074441316,\n",
       " 2314.0768218013704,\n",
       " 2317.944724267804,\n",
       " 2327.145552263916,\n",
       " 2328.155835401164,\n",
       " 2342.6960842221697,\n",
       " 2368.6908849635947,\n",
       " 2392.1569459147277,\n",
       " 2416.2556857641493,\n",
       " 2424.9658835668447,\n",
       " 2442.181635880739,\n",
       " 2446.4133374552252,\n",
       " 2463.613162886627,\n",
       " 2467.8289373438656,\n",
       " 2470.939182992113,\n",
       " 2472.495244822453,\n",
       " 2487.4866531911653,\n",
       " 2498.2407197662665,\n",
       " 2508.1039731730716,\n",
       " 2504.705916650681,\n",
       " 2514.1239655560003,\n",
       " 2507.716772020329,\n",
       " 2530.4819002624354,\n",
       " 2537.1663654293625,\n",
       " 2547.110657446603,\n",
       " 2554.059164914688,\n",
       " 2546.2195391235355,\n",
       " 2540.501802267793,\n",
       " 2548.2186188853448,\n",
       " 2571.143333879759,\n",
       " 2567.990961718821,\n",
       " 2568.936821460164,\n",
       " 2576.4644957150613,\n",
       " 2567.591689640472,\n",
       " 2558.6182684888995,\n",
       " 2562.5037290663254,\n",
       " 2570.050977635452,\n",
       " 2574.139246308785,\n",
       " 2597.481469807963,\n",
       " 2603.8395403347286,\n",
       " 2615.443206866275,\n",
       " 2639.423705874595,\n",
       " 2664.460924105966,\n",
       " 2656.565725164721,\n",
       " 2660.7932599956675,\n",
       " 2680.4183150916374,\n",
       " 2674.629728018265,\n",
       " 2673.389771220104,\n",
       " 2668.414637321329,\n",
       " 2662.795295042089,\n",
       " 2659.4534413414062,\n",
       " 2669.221868859871,\n",
       " 2689.9111240146563,\n",
       " 2713.1913527842576,\n",
       " 2721.3102326185767,\n",
       " 2709.6045137521173,\n",
       " 2717.038187899899,\n",
       " 2721.6461637493926,\n",
       " 2733.16937497419,\n",
       " 2739.8852438517733,\n",
       " 2729.924112894684,\n",
       " 2742.056947354762,\n",
       " 2729.3785929873598,\n",
       " 2730.4774808446596,\n",
       " 2741.59498798102,\n",
       " 2753.0986536499554,\n",
       " 2776.812133709552,\n",
       " 2761.187997778073,\n",
       " 2772.587839868012,\n",
       " 2787.4816433228434,\n",
       " 2792.2095019560475,\n",
       " 2806.589817199791,\n",
       " 2803.569830890575,\n",
       " 2818.1401066919566,\n",
       " 2831.5222591604165,\n",
       " 2829.705962623171,\n",
       " 2831.0395644913337,\n",
       " 2837.1413251333424,\n",
       " 2838.580471599429,\n",
       " 2857.024442421129,\n",
       " 2866.776117080341,\n",
       " 2887.923450392867,\n",
       " 2907.6759460612993,\n",
       " 2916.2844161791077,\n",
       " 2922.353370388612,\n",
       " 2920.8868138375624,\n",
       " 2920.8407075930236,\n",
       " 2920.82879641179,\n",
       " 2932.3073017910974,\n",
       " 2931.4706436368347,\n",
       " 2940.257226454283,\n",
       " 2950.1831177366194,\n",
       " 2953.22077463744,\n",
       " 2959.358529193464,\n",
       " 2981.812228277165,\n",
       " 3005.9320434789797,\n",
       " 3006.1057132330693,\n",
       " 3012.159578791606,\n",
       " 3016.438258316912,\n",
       " 3021.6805928640597,\n",
       " 3045.0319712228825,\n",
       " 3059.896517606722,\n",
       " 3080.4956747657598,\n",
       " 3106.264469646584,\n",
       " 3109.8613346451816,\n",
       " 3115.9892619436027,\n",
       " 3124.3933277700253,\n",
       " 3142.6536925804803,\n",
       " 3149.743714509108,\n",
       " 3164.201577768105,\n",
       " 3183.884664137913,\n",
       " 3203.5169673480395,\n",
       " 3215.9837562621565,\n",
       " 3216.0966019835405,\n",
       " 3208.5555810021933,\n",
       " 3227.771911815771,\n",
       " 3240.337911187781,\n",
       " 3238.963152369462,\n",
       " 3241.912390589733,\n",
       " 3245.4243856005874,\n",
       " 3236.6748955885164,\n",
       " 3247.190356525954,\n",
       " 3247.3199651365235,\n",
       " 3252.3758978041456,\n",
       " 3267.7729048604656,\n",
       " 3274.816545807564,\n",
       " 3288.2470777610592,\n",
       " 3300.4709301482535,\n",
       " 3308.787621418014,\n",
       " 3317.275931180211,\n",
       " 3343.892064742717,\n",
       " 3350.18530581655,\n",
       " 3374.4620262614094,\n",
       " 3373.322019230064,\n",
       " 3388.616026151743,\n",
       " 3398.325080426676,\n",
       " 3399.0325360613706,\n",
       " 3380.557890805748,\n",
       " 3404.5071379531964,\n",
       " 3400.955097476108,\n",
       " 3399.3245569669984,\n",
       " 3408.620857089954,\n",
       " 3417.1922485229406,\n",
       " 3427.98020966704,\n",
       " 3433.439428244178,\n",
       " 3426.4432699626677,\n",
       " 3443.113396172329,\n",
       " 3442.066528355819,\n",
       " 3452.299428215998,\n",
       " 3466.0438395440924,\n",
       " 3485.866091818951,\n",
       " 3491.6870577132063,\n",
       " 3496.632667120737,\n",
       " 3502.299547934842,\n",
       " 3491.8136960409715,\n",
       " 3492.265532461183,\n",
       " 3490.2216920692576,\n",
       " 3486.7230616396105,\n",
       " 3496.399995544991,\n",
       " 3501.2851129994147,\n",
       " 3525.247763396185,\n",
       " 3548.1373522129534,\n",
       " 3537.312863876601,\n",
       " 3546.5386560383267,\n",
       " 3544.5270112233065,\n",
       " 3558.0889165692633,\n",
       " 3567.670114116556,\n",
       " 3584.9752824693464,\n",
       " 3596.0836106014654,\n",
       " 3611.6956754655534,\n",
       " 3616.709969445124,\n",
       " 3599.6290366661265,\n",
       " 3595.778208343258,\n",
       " 3595.228887696933,\n",
       " 3598.3273921708483]"
      ]
     },
     "execution_count": 58,
     "metadata": {},
     "output_type": "execute_result"
    }
   ],
   "source": [
    "random_walk(1000, error+8)"
   ]
  },
  {
   "cell_type": "code",
   "execution_count": 59,
   "metadata": {},
   "outputs": [
    {
     "data": {
      "image/png": "[encoded data removed]",
      "text/plain": [
       "<Figure size 1008x432 with 1 Axes>"
      ]
     },
     "metadata": {
      "needs_background": "light"
     },
     "output_type": "display_data"
    }
   ],
   "source": [
    "ax = shares_series_drift.plot(figsize=(14,6))\n",
    "ax.set_ylabel('Stock value', fontsize=16)\n",
    "ax.set_xlabel('Date', fontsize=16)\n",
    "plt.show()"
   ]
  },
  {
   "cell_type": "markdown",
   "metadata": {},
   "source": [
    "Note that there is a very strong drift here!"
   ]
  },
  {
   "cell_type": "markdown",
   "metadata": {},
   "source": [
    "## Differencing in a Random Walk model"
   ]
  },
  {
   "cell_type": "markdown",
   "metadata": {},
   "source": [
    "One important property of the random walk model is that a differenced random walk returns a white noise. This is a result of the mathematical formula:\n",
    "\n",
    "$$Y_t = Y_{t-1} + \\epsilon_t$$\n",
    "which is equivalent to\n",
    "$$Y_t - Y_{t-1} = \\epsilon_t$$\n",
    "\n",
    "and we know that $\\epsilon_t$ is a mean-zero white noise process! "
   ]
  },
  {
   "cell_type": "markdown",
   "metadata": {},
   "source": [
    "Plot the differenced time series (time period of 1) for the shares time series (no drift)."
   ]
  },
  {
   "cell_type": "code",
   "execution_count": 60,
   "metadata": {},
   "outputs": [
    {
     "data": {
      "text/plain": [
       "<AxesSubplot:>"
      ]
     },
     "execution_count": 60,
     "metadata": {},
     "output_type": "execute_result"
    },
    {
     "data": {
      "image/png": "[encoded data removed]",
      "text/plain": [
       "<Figure size 432x288 with 1 Axes>"
      ]
     },
     "metadata": {
      "needs_background": "light"
     },
     "output_type": "display_data"
    }
   ],
   "source": [
    "# Your code here\n",
    "shares_series.diff(1).plot()"
   ]
  },
  {
   "cell_type": "markdown",
   "metadata": {},
   "source": [
    "This does look a lot like a white noise series!"
   ]
  },
  {
   "cell_type": "markdown",
   "metadata": {},
   "source": [
    "Plot the differenced time series for the shares time series (with a drift)."
   ]
  },
  {
   "cell_type": "code",
   "execution_count": 63,
   "metadata": {},
   "outputs": [
    {
     "data": {
      "text/plain": [
       "2010-01-01    1025.494547\n",
       "2010-01-02    1030.633817\n",
       "2010-01-03    1033.788166\n",
       "2010-01-04    1015.254981\n",
       "2010-01-05    1023.172134\n",
       "                 ...     \n",
       "2010-11-26    3616.709969\n",
       "2010-11-27    3599.629037\n",
       "2010-11-28    3595.778208\n",
       "2010-11-29    3595.228888\n",
       "2010-11-30    3598.327392\n",
       "Freq: D, Length: 334, dtype: float64"
      ]
     },
     "execution_count": 63,
     "metadata": {},
     "output_type": "execute_result"
    }
   ],
   "source": [
    "shares_series_drift"
   ]
  },
  {
   "cell_type": "code",
   "execution_count": 62,
   "metadata": {},
   "outputs": [
    {
     "data": {
      "text/plain": [
       "<AxesSubplot:>"
      ]
     },
     "execution_count": 62,
     "metadata": {},
     "output_type": "execute_result"
    },
    {
     "data": {
      "image/png": "[encoded data removed]",
      "text/plain": [
       "<Figure size 432x288 with 1 Axes>"
      ]
     },
     "metadata": {
      "needs_background": "light"
     },
     "output_type": "display_data"
    }
   ],
   "source": [
    "# Your code here \n",
    "shares_series_drift.diff(1).plot()"
   ]
  },
  {
   "cell_type": "markdown",
   "metadata": {},
   "source": [
    "This is also a white noise series, but what can you tell about the mean? \n",
    "\n",
    "The mean is equal to the drift $c$, so 8 for this example!\n",
    "\n",
    "## Summary\n",
    "\n",
    "Great, you now know how white noise and random walk models work!"
   ]
  }
 ],
 "metadata": {
  "kernelspec": {
   "display_name": "Python 3",
   "language": "python",
   "name": "python3"
  },
  "language_info": {
   "codemirror_mode": {
    "name": "ipython",
    "version": 3
   },
   "file_extension": ".py",
   "mimetype": "text/x-python",
   "name": "python",
   "nbconvert_exporter": "python",
   "pygments_lexer": "ipython3",
   "version": "3.7.9"
  },
  "toc": {
   "base_numbering": 1,
   "nav_menu": {},
   "number_sections": true,
   "sideBar": true,
   "skip_h1_title": false,
   "title_cell": "Table of Contents",
   "title_sidebar": "Contents",
   "toc_cell": false,
   "toc_position": {},
   "toc_section_display": true,
   "toc_window_display": false
  }
 },
 "nbformat": 4,
 "nbformat_minor": 2
}
